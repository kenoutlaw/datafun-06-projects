{
 "cells": [
  {
   "cell_type": "markdown",
   "id": "6eba0920-be79-48b2-92e8-eeb62432e47e",
   "metadata": {},
   "source": [
    "# Kendall Outlaw Project 6 - Data Analytics Projects\n",
    "### Task 1 and 3 - Begin with the End in Mind and Exploratory Data Project\n",
    "### 2/18/2023"
   ]
  },
  {
   "cell_type": "markdown",
   "id": "c718a914-d527-4a06-88c3-d28340b2bac6",
   "metadata": {},
   "source": [
    "### Read from a data file"
   ]
  },
  {
   "cell_type": "code",
   "execution_count": 176,
   "id": "15fadccf-f4a0-44a2-befe-2b0e7175bffd",
   "metadata": {},
   "outputs": [
    {
     "data": {
      "text/html": [
       "<div>\n",
       "<style scoped>\n",
       "    .dataframe tbody tr th:only-of-type {\n",
       "        vertical-align: middle;\n",
       "    }\n",
       "\n",
       "    .dataframe tbody tr th {\n",
       "        vertical-align: top;\n",
       "    }\n",
       "\n",
       "    .dataframe thead th {\n",
       "        text-align: right;\n",
       "    }\n",
       "</style>\n",
       "<table border=\"1\" class=\"dataframe\">\n",
       "  <thead>\n",
       "    <tr style=\"text-align: right;\">\n",
       "      <th></th>\n",
       "      <th>enrollee_id</th>\n",
       "      <th>city</th>\n",
       "      <th>city_development_index</th>\n",
       "      <th>gender</th>\n",
       "      <th>relevent_experience</th>\n",
       "      <th>enrolled_university</th>\n",
       "      <th>education_level</th>\n",
       "      <th>major_discipline</th>\n",
       "      <th>experience</th>\n",
       "      <th>company_size</th>\n",
       "      <th>company_type</th>\n",
       "      <th>last_new_job</th>\n",
       "      <th>training_hours</th>\n",
       "    </tr>\n",
       "  </thead>\n",
       "  <tbody>\n",
       "    <tr>\n",
       "      <th>0</th>\n",
       "      <td>32403</td>\n",
       "      <td>city_41</td>\n",
       "      <td>0.827</td>\n",
       "      <td>Male</td>\n",
       "      <td>Has relevent experience</td>\n",
       "      <td>Full time course</td>\n",
       "      <td>Graduate</td>\n",
       "      <td>STEM</td>\n",
       "      <td>9</td>\n",
       "      <td>&lt;10</td>\n",
       "      <td>NaN</td>\n",
       "      <td>1</td>\n",
       "      <td>21</td>\n",
       "    </tr>\n",
       "    <tr>\n",
       "      <th>1</th>\n",
       "      <td>9858</td>\n",
       "      <td>city_103</td>\n",
       "      <td>0.920</td>\n",
       "      <td>Female</td>\n",
       "      <td>Has relevent experience</td>\n",
       "      <td>no_enrollment</td>\n",
       "      <td>Graduate</td>\n",
       "      <td>STEM</td>\n",
       "      <td>5</td>\n",
       "      <td>NaN</td>\n",
       "      <td>Pvt Ltd</td>\n",
       "      <td>1</td>\n",
       "      <td>98</td>\n",
       "    </tr>\n",
       "    <tr>\n",
       "      <th>2</th>\n",
       "      <td>31806</td>\n",
       "      <td>city_21</td>\n",
       "      <td>0.624</td>\n",
       "      <td>Male</td>\n",
       "      <td>No relevent experience</td>\n",
       "      <td>no_enrollment</td>\n",
       "      <td>High School</td>\n",
       "      <td>NaN</td>\n",
       "      <td>&lt;1</td>\n",
       "      <td>NaN</td>\n",
       "      <td>Pvt Ltd</td>\n",
       "      <td>never</td>\n",
       "      <td>15</td>\n",
       "    </tr>\n",
       "    <tr>\n",
       "      <th>3</th>\n",
       "      <td>27385</td>\n",
       "      <td>city_13</td>\n",
       "      <td>0.827</td>\n",
       "      <td>Male</td>\n",
       "      <td>Has relevent experience</td>\n",
       "      <td>no_enrollment</td>\n",
       "      <td>Masters</td>\n",
       "      <td>STEM</td>\n",
       "      <td>11</td>\n",
       "      <td>10/49</td>\n",
       "      <td>Pvt Ltd</td>\n",
       "      <td>1</td>\n",
       "      <td>39</td>\n",
       "    </tr>\n",
       "    <tr>\n",
       "      <th>4</th>\n",
       "      <td>27724</td>\n",
       "      <td>city_103</td>\n",
       "      <td>0.920</td>\n",
       "      <td>Male</td>\n",
       "      <td>Has relevent experience</td>\n",
       "      <td>no_enrollment</td>\n",
       "      <td>Graduate</td>\n",
       "      <td>STEM</td>\n",
       "      <td>&gt;20</td>\n",
       "      <td>10000+</td>\n",
       "      <td>Pvt Ltd</td>\n",
       "      <td>&gt;4</td>\n",
       "      <td>72</td>\n",
       "    </tr>\n",
       "    <tr>\n",
       "      <th>...</th>\n",
       "      <td>...</td>\n",
       "      <td>...</td>\n",
       "      <td>...</td>\n",
       "      <td>...</td>\n",
       "      <td>...</td>\n",
       "      <td>...</td>\n",
       "      <td>...</td>\n",
       "      <td>...</td>\n",
       "      <td>...</td>\n",
       "      <td>...</td>\n",
       "      <td>...</td>\n",
       "      <td>...</td>\n",
       "      <td>...</td>\n",
       "    </tr>\n",
       "    <tr>\n",
       "      <th>2124</th>\n",
       "      <td>1289</td>\n",
       "      <td>city_103</td>\n",
       "      <td>0.920</td>\n",
       "      <td>Male</td>\n",
       "      <td>No relevent experience</td>\n",
       "      <td>no_enrollment</td>\n",
       "      <td>Graduate</td>\n",
       "      <td>Humanities</td>\n",
       "      <td>16</td>\n",
       "      <td>NaN</td>\n",
       "      <td>Public Sector</td>\n",
       "      <td>4</td>\n",
       "      <td>15</td>\n",
       "    </tr>\n",
       "    <tr>\n",
       "      <th>2125</th>\n",
       "      <td>195</td>\n",
       "      <td>city_136</td>\n",
       "      <td>0.897</td>\n",
       "      <td>Male</td>\n",
       "      <td>Has relevent experience</td>\n",
       "      <td>no_enrollment</td>\n",
       "      <td>Masters</td>\n",
       "      <td>STEM</td>\n",
       "      <td>18</td>\n",
       "      <td>NaN</td>\n",
       "      <td>NaN</td>\n",
       "      <td>2</td>\n",
       "      <td>30</td>\n",
       "    </tr>\n",
       "    <tr>\n",
       "      <th>2126</th>\n",
       "      <td>31762</td>\n",
       "      <td>city_100</td>\n",
       "      <td>0.887</td>\n",
       "      <td>Male</td>\n",
       "      <td>No relevent experience</td>\n",
       "      <td>no_enrollment</td>\n",
       "      <td>Primary School</td>\n",
       "      <td>NaN</td>\n",
       "      <td>3</td>\n",
       "      <td>NaN</td>\n",
       "      <td>Pvt Ltd</td>\n",
       "      <td>never</td>\n",
       "      <td>18</td>\n",
       "    </tr>\n",
       "    <tr>\n",
       "      <th>2127</th>\n",
       "      <td>7873</td>\n",
       "      <td>city_102</td>\n",
       "      <td>0.804</td>\n",
       "      <td>Male</td>\n",
       "      <td>Has relevent experience</td>\n",
       "      <td>Full time course</td>\n",
       "      <td>High School</td>\n",
       "      <td>NaN</td>\n",
       "      <td>7</td>\n",
       "      <td>100-500</td>\n",
       "      <td>Public Sector</td>\n",
       "      <td>1</td>\n",
       "      <td>84</td>\n",
       "    </tr>\n",
       "    <tr>\n",
       "      <th>2128</th>\n",
       "      <td>12215</td>\n",
       "      <td>city_102</td>\n",
       "      <td>0.804</td>\n",
       "      <td>Male</td>\n",
       "      <td>Has relevent experience</td>\n",
       "      <td>no_enrollment</td>\n",
       "      <td>Masters</td>\n",
       "      <td>STEM</td>\n",
       "      <td>15</td>\n",
       "      <td>10000+</td>\n",
       "      <td>Pvt Ltd</td>\n",
       "      <td>2</td>\n",
       "      <td>11</td>\n",
       "    </tr>\n",
       "  </tbody>\n",
       "</table>\n",
       "<p>2129 rows × 13 columns</p>\n",
       "</div>"
      ],
      "text/plain": [
       "      enrollee_id      city  city_development_index  gender  \\\n",
       "0           32403   city_41                   0.827    Male   \n",
       "1            9858  city_103                   0.920  Female   \n",
       "2           31806   city_21                   0.624    Male   \n",
       "3           27385   city_13                   0.827    Male   \n",
       "4           27724  city_103                   0.920    Male   \n",
       "...           ...       ...                     ...     ...   \n",
       "2124         1289  city_103                   0.920    Male   \n",
       "2125          195  city_136                   0.897    Male   \n",
       "2126        31762  city_100                   0.887    Male   \n",
       "2127         7873  city_102                   0.804    Male   \n",
       "2128        12215  city_102                   0.804    Male   \n",
       "\n",
       "          relevent_experience enrolled_university education_level  \\\n",
       "0     Has relevent experience    Full time course        Graduate   \n",
       "1     Has relevent experience       no_enrollment        Graduate   \n",
       "2      No relevent experience       no_enrollment     High School   \n",
       "3     Has relevent experience       no_enrollment         Masters   \n",
       "4     Has relevent experience       no_enrollment        Graduate   \n",
       "...                       ...                 ...             ...   \n",
       "2124   No relevent experience       no_enrollment        Graduate   \n",
       "2125  Has relevent experience       no_enrollment         Masters   \n",
       "2126   No relevent experience       no_enrollment  Primary School   \n",
       "2127  Has relevent experience    Full time course     High School   \n",
       "2128  Has relevent experience       no_enrollment         Masters   \n",
       "\n",
       "     major_discipline experience company_size   company_type last_new_job  \\\n",
       "0                STEM          9          <10            NaN            1   \n",
       "1                STEM          5          NaN        Pvt Ltd            1   \n",
       "2                 NaN         <1          NaN        Pvt Ltd        never   \n",
       "3                STEM         11        10/49        Pvt Ltd            1   \n",
       "4                STEM        >20       10000+        Pvt Ltd           >4   \n",
       "...               ...        ...          ...            ...          ...   \n",
       "2124       Humanities         16          NaN  Public Sector            4   \n",
       "2125             STEM         18          NaN            NaN            2   \n",
       "2126              NaN          3          NaN        Pvt Ltd        never   \n",
       "2127              NaN          7      100-500  Public Sector            1   \n",
       "2128             STEM         15       10000+        Pvt Ltd            2   \n",
       "\n",
       "      training_hours  \n",
       "0                 21  \n",
       "1                 98  \n",
       "2                 15  \n",
       "3                 39  \n",
       "4                 72  \n",
       "...              ...  \n",
       "2124              15  \n",
       "2125              30  \n",
       "2126              18  \n",
       "2127              84  \n",
       "2128              11  \n",
       "\n",
       "[2129 rows x 13 columns]"
      ]
     },
     "execution_count": 176,
     "metadata": {},
     "output_type": "execute_result"
    }
   ],
   "source": [
    "import pandas as pd\n",
    "import numpy as np\n",
    "import matplotlib.pyplot as plt\n",
    "plt.style.use('fivethirtyeight')\n",
    "import seaborn as sns\n",
    "\n",
    "HR_Dataframe = pd.read_csv('/Users/maste/OneDrive/Desktop/Northwest Missouri State/44608/aug_test.csv')\n",
    "\n",
    "HR_Dataframe"
   ]
  },
  {
   "cell_type": "markdown",
   "id": "cfdd9945-3631-4835-8dfc-cd517e9ffda2",
   "metadata": {},
   "source": [
    "### Use statistics - mean, median, mode, standard deviation, variance for one or more of the numerical columns."
   ]
  },
  {
   "cell_type": "code",
   "execution_count": 142,
   "id": "0443fe7c-18bd-4b9a-8dc9-78b001f2168c",
   "metadata": {},
   "outputs": [
    {
     "name": "stdout",
     "output_type": "stream",
     "text": [
      "The Mean for Training Hours is 64.98309065288868\n"
     ]
    }
   ],
   "source": [
    "#Find Mean for Training Hours\n",
    "print(f\"The Mean for Training Hours is {HR_Dataframe['training_hours'].mean()}\")"
   ]
  },
  {
   "cell_type": "code",
   "execution_count": 45,
   "id": "fede8a58-0f5f-48af-a581-0cc8362e7792",
   "metadata": {},
   "outputs": [
    {
     "name": "stdout",
     "output_type": "stream",
     "text": [
      "The Median for Training Hours is \n",
      " 47.0\n"
     ]
    }
   ],
   "source": [
    "#Find Median for Training Hours\n",
    "print(f\"The Median for Training Hours is {HR_Dataframe['training_hours'].median()}\")"
   ]
  },
  {
   "cell_type": "code",
   "execution_count": 27,
   "id": "7c1eb453-1428-431a-8ba4-ebf7e80af4a7",
   "metadata": {},
   "outputs": [
    {
     "name": "stdout",
     "output_type": "stream",
     "text": [
      "The Mode for Training Hours is 0    18\n",
      "dtype: int64\n"
     ]
    }
   ],
   "source": [
    "#Find Mode for Training Hours\n",
    "print(f\"The Mode for Training Hours is {HR_Dataframe['training_hours'].mode()}\")"
   ]
  },
  {
   "cell_type": "code",
   "execution_count": 51,
   "id": "6e7c7ae8-ff14-4664-a0b2-4d05eb47eb6a",
   "metadata": {},
   "outputs": [
    {
     "name": "stdout",
     "output_type": "stream",
     "text": [
      "The Standard Deviation for Columns in dataset is \n",
      "enrollee_id               9576.846029\n",
      "city_development_index       0.125074\n",
      "training_hours              60.238660\n",
      "dtype: float64\n"
     ]
    }
   ],
   "source": [
    "#Find Standard Deviation for Columns in dataset\n",
    "print(f\"The Standard Deviation for Columns in dataset is \\n{HR_Dataframe.std()}\")"
   ]
  },
  {
   "cell_type": "markdown",
   "id": "11a34942-0de5-4f50-b09b-ca5882ce4bb2",
   "metadata": {},
   "source": [
    "### Use built-in functions min(), max(), len(), count of records, number of columns, others.."
   ]
  },
  {
   "cell_type": "code",
   "execution_count": 52,
   "id": "89b4b8df-cf17-44a5-83be-530d2585f970",
   "metadata": {},
   "outputs": [
    {
     "name": "stdout",
     "output_type": "stream",
     "text": [
      "The Min of Each Column in the dataset is \n",
      "enrollee_id                                33353\n",
      "city                                     city_99\n",
      "city_development_index                     0.949\n",
      "relevent_experience       No relevent experience\n",
      "training_hours                               334\n",
      "dtype: object\n"
     ]
    }
   ],
   "source": [
    "#Find the Min of Each Column in the dataset\n",
    "print(f\"The Min of Each Column in the dataset is \\n{HR_Dataframe.max()}\")"
   ]
  },
  {
   "cell_type": "code",
   "execution_count": 53,
   "id": "d33bac89-c69d-47d6-bf64-822abfd36f4f",
   "metadata": {},
   "outputs": [
    {
     "name": "stdout",
     "output_type": "stream",
     "text": [
      "The Max of Each Column in the dataset is \n",
      "enrollee_id                                33353\n",
      "city                                     city_99\n",
      "city_development_index                     0.949\n",
      "relevent_experience       No relevent experience\n",
      "training_hours                               334\n",
      "dtype: object\n"
     ]
    }
   ],
   "source": [
    "#Find the Max of Each Column in the dataset\n",
    "print(f\"The Max of Each Column in the dataset is \\n{HR_Dataframe.max()}\")"
   ]
  },
  {
   "cell_type": "code",
   "execution_count": 102,
   "id": "d0641dc7-f13f-4162-a0b2-e990f47ffc7f",
   "metadata": {},
   "outputs": [
    {
     "name": "stdout",
     "output_type": "stream",
     "text": [
      "The Count of Records of Each Column in the dataset is \n",
      "enrollee_id               2129\n",
      "city                      2129\n",
      "city_development_index    2129\n",
      "gender                    1621\n",
      "relevent_experience       2129\n",
      "enrolled_university       2098\n",
      "education_level           2077\n",
      "major_discipline          1817\n",
      "experience                2124\n",
      "company_size              1507\n",
      "company_type              1495\n",
      "last_new_job              2089\n",
      "training_hours            2129\n",
      "dtype: int64\n"
     ]
    }
   ],
   "source": [
    "#Find the Count of Records of Each Column in the dataset\n",
    "print(f\"The Count of Records of Each Column in the dataset is \\n{HR_Dataframe.count()}\")"
   ]
  },
  {
   "cell_type": "code",
   "execution_count": 110,
   "id": "55ceb676-a78d-4bf6-aa09-28afbe062dc5",
   "metadata": {},
   "outputs": [
    {
     "name": "stdout",
     "output_type": "stream",
     "text": [
      "The Variance of Each Column in the dataset is \n",
      "enrollee_id               9.171598e+07\n",
      "city_development_index    1.564350e-02\n",
      "training_hours            3.628696e+03\n",
      "dtype: float64\n"
     ]
    }
   ],
   "source": [
    "#Find the Variance of Each Column in the dataset\n",
    "print(f\"The Variance of Each Column in the dataset is \\n{HR_Dataframe.var()}\")"
   ]
  },
  {
   "cell_type": "code",
   "execution_count": 143,
   "id": "462af4d3-4a2a-4cad-b940-103d107b9c8c",
   "metadata": {},
   "outputs": [
    {
     "name": "stdout",
     "output_type": "stream",
     "text": [
      "The Standard Deviation of Each Column in the dataset is \n",
      "enrollee_id               9576.846029\n",
      "city_development_index       0.125074\n",
      "training_hours              60.238660\n",
      "LENGTH                       0.547042\n",
      "enrollee_id_length           0.547042\n",
      "dtype: float64\n"
     ]
    }
   ],
   "source": [
    "#Standard Deviation of Each Column\n",
    "print(f\"The Standard Deviation of Each Column in the dataset is \\n{HR_Dataframe.std()}\")"
   ]
  },
  {
   "cell_type": "code",
   "execution_count": 141,
   "id": "be43c8d9-dea4-470c-9e4b-63fb0c9cc4f7",
   "metadata": {},
   "outputs": [
    {
     "name": "stdout",
     "output_type": "stream",
     "text": [
      "      enrollee_id  enrollee_id_length\n",
      "0           32403                   5\n",
      "1            9858                   4\n",
      "2           31806                   5\n",
      "3           27385                   5\n",
      "4           27724                   5\n",
      "...           ...                 ...\n",
      "2124         1289                   4\n",
      "2125          195                   3\n",
      "2126        31762                   5\n",
      "2127         7873                   4\n",
      "2128        12215                   5\n",
      "\n",
      "[2129 rows x 2 columns]\n"
     ]
    }
   ],
   "source": [
    "#Find the Length of Each enrollee_id from the enrollee_id column\n",
    "HR_Dataframe['enrollee_id_length'] = HR_Dataframe['enrollee_id'].map(str).apply(len)\n",
    "print(HR_Dataframe[['enrollee_id', 'enrollee_id_length']])"
   ]
  },
  {
   "cell_type": "code",
   "execution_count": 35,
   "id": "6931cd20-5910-4966-b95d-afd402fcc784",
   "metadata": {},
   "outputs": [
    {
     "name": "stdout",
     "output_type": "stream",
     "text": [
      "The Number of Columns in the dataset is 13\n"
     ]
    }
   ],
   "source": [
    "#Find the number of columns\n",
    "print(f\"The Number of Columns in the dataset is {len(HR_Dataframe.columns)}\")"
   ]
  },
  {
   "cell_type": "code",
   "execution_count": 34,
   "id": "d7250031-dfa5-4c96-a1f3-64210ddc39bd",
   "metadata": {},
   "outputs": [
    {
     "name": "stdout",
     "output_type": "stream",
     "text": [
      "The Number of Rows in the dataset is 2129\n"
     ]
    }
   ],
   "source": [
    "#Find the number of rows\n",
    "print(f\"The Number of Rows in the dataset is {HR_Dataframe.shape[0]}\")"
   ]
  },
  {
   "cell_type": "markdown",
   "id": "23c807c1-afca-47f3-b021-701489df17ee",
   "metadata": {},
   "source": [
    "### Get the Statstics for Each Column"
   ]
  },
  {
   "cell_type": "code",
   "execution_count": 24,
   "id": "e41cfcec-86fe-464f-a99c-da45be5f7a3e",
   "metadata": {},
   "outputs": [
    {
     "name": "stdout",
     "output_type": "stream",
     "text": [
      "        enrollee_id  city_development_index  training_hours\n",
      "count   2129.000000             2129.000000     2129.000000\n",
      "mean   16861.614843                0.824984       64.983091\n",
      "std     9576.846029                0.125074       60.238660\n",
      "min        3.000000                0.448000        1.000000\n",
      "25%     8562.000000                0.698000       23.000000\n",
      "50%    16816.000000                0.903000       47.000000\n",
      "75%    25129.000000                0.920000       86.000000\n",
      "max    33353.000000                0.949000      334.000000\n"
     ]
    }
   ],
   "source": [
    "print(HR_Dataframe.describe())"
   ]
  },
  {
   "cell_type": "markdown",
   "id": "f14e61bc-ba1d-4454-b59f-e88cc8813e4d",
   "metadata": {},
   "source": [
    "### Get some of your data into a list. "
   ]
  },
  {
   "cell_type": "code",
   "execution_count": 190,
   "id": "5dd123f9-fd26-4beb-aada-7fb6578200db",
   "metadata": {},
   "outputs": [
    {
     "name": "stdout",
     "output_type": "stream",
     "text": [
      "[  1   2   3   4   5   6   7   8   9  10  11  12  13  14  15  16  17  18\n",
      "  19  20  21  22  23  24  25  26  27  28  29  30  31  32  33  34  35  36\n",
      "  37  38  39  40  41  42  43  44  45  46  47  48  49  50  51  52  53  54\n",
      "  55  56  57  58  59  60  61  62  63  64  65  66  67  68  69  70  71  72\n",
      "  73  74  75  76  77  78  79  80  81  82  83  84  85  86  87  88  89  90\n",
      "  91  92  94  95  96  97  98  99 100 101 102 103 104 105 106 107 108 109\n",
      " 110 111 112 113 114 116 117 118 119 120 121 122 123 124 125 126 127 128\n",
      " 129 130 131 132 133 134 135 136 138 139 140 141 142 144 145 146 147 148\n",
      " 149 150 151 152 154 155 156 157 158 160 162 163 165 166 167 168 170 172\n",
      " 174 176 178 180 182 184 188 190 192 194 196 200 202 204 206 210 212 214\n",
      " 216 218 220 222 224 226 228 232 234 244 246 248 250 254 256 258 260 262\n",
      " 264 266 270 272 276 280 282 284 288 290 292 298 300 304 306 310 312 314\n",
      " 316 322 324 328 330 332 334]\n"
     ]
    }
   ],
   "source": [
    "#Get the list of unique training hours from the training hours column\n",
    "training_hours_list = (HR_Dataframe['training_hours'].unique())\n",
    "#Sort the training hours from lowest to highest\n",
    "training_hours_list.sort()\n",
    "print(training_hours_list)"
   ]
  },
  {
   "cell_type": "markdown",
   "id": "e82c41f0-9bff-406d-98b1-1be5e7c266b5",
   "metadata": {},
   "source": [
    "### Create some custom functions, use some branching logic to transform and/or show only a part of the data. "
   ]
  },
  {
   "cell_type": "code",
   "execution_count": 79,
   "id": "ead71489-196d-494f-b61d-effaec877000",
   "metadata": {},
   "outputs": [
    {
     "name": "stdout",
     "output_type": "stream",
     "text": [
      "[ 21  98  15  39  72  12  11  81   2   4 196  51  48 134  10 125  31  23\n",
      " 110  74  44  33  19  65  46  78 105  29  43  18   8 145  22   9  20 130\n",
      "   3  49 270  35  87  37 158 114  40  91  14 132 124  80 188 182 282  84\n",
      "  59 116  34  64  77  56  73  30  66 100  32  28  99  41 258 144 328  47\n",
      "  36  55   5  58   7  42  95  17  54  50 135  27  24 120  61 139 154  96\n",
      "  76 156 102  88  13 101 178 200  68  70  16 152 138 128 204  53  52  67\n",
      " 118 272  26 174  71 202  60  82 194 248 119  85  86  38 212  57 107 103\n",
      " 109 150  25  62  89 112 167  45 106  92 163 108  90  83 322 166 148 168\n",
      " 104 234 127  75 113 332 288 170  63 220 250 222 136 160 226 141  94 190\n",
      " 206 266 334 304 172 284 180   6 122 214 111 292  97 184 218 176 129  79\n",
      "  69 151 324 146 232   1 140 280 123 254 264 246 310 155 298 216 260 192\n",
      " 224 228 121 306 210 276 256 244 312 131 314 157 149 290 147 300 133 165\n",
      " 117 262 126 330 162 316 142]\n"
     ]
    }
   ],
   "source": [
    "training_hours_list = (HR_Dataframe['training_hours'].unique())\n",
    "\n",
    "#filtered = []\n",
    "\n",
    "#for th in training_hours_list:\n",
    "   # if th >= 30:\n",
    "    #    filtered.append(score)\n",
    "\n",
    "print(training_hours_list)"
   ]
  },
  {
   "cell_type": "code",
   "execution_count": 97,
   "id": "72e59aef-af76-49f7-8e82-4f66f729feeb",
   "metadata": {},
   "outputs": [
    {
     "name": "stdout",
     "output_type": "stream",
     "text": [
      "[21, 15, 12, 11, 2, 4, 10, 23, 19, 29, 18, 8, 22, 9, 20, 3, 14, 28, 5, 7, 17, 27, 24, 13, 16, 26, 25, 6, 1]\n"
     ]
    }
   ],
   "source": [
    "#Filter training hours from the training hours column where training hours are less than 30\n",
    "training_hours_list = (HR_Dataframe['training_hours'].unique())\n",
    "less_than_30_training_hours = filter(lambda training_hours_list: training_hours_list < 30, training_hours_list)\n",
    "print(list(less_than_30_training_hours))"
   ]
  },
  {
   "cell_type": "code",
   "execution_count": 98,
   "id": "4b4e9398-7870-4281-8ed2-4718339b9221",
   "metadata": {},
   "outputs": [
    {
     "name": "stdout",
     "output_type": "stream",
     "text": [
      "[50, 51, 52, 53, 54, 55, 56, 57, 58, 59, 60, 61, 62, 63, 64, 65, 66, 67, 68, 69, 70, 71, 72, 73, 74, 75, 76, 77, 78, 79, 80, 81, 82, 83, 84, 85, 86, 87, 88, 89, 90, 91, 92, 94, 95, 96, 97, 98, 99, 100, 101, 102, 103, 104, 105, 106, 107, 108, 109, 110, 111, 112, 113, 114, 116, 117, 118, 119, 120, 121, 122, 123, 124, 125, 126, 127, 128, 129, 130, 131, 132, 133, 134, 135, 136, 138, 139, 140, 141, 142, 144, 145, 146, 147, 148, 149, 150, 151, 152, 154, 155, 156, 157, 158, 160, 162, 163, 165, 166, 167, 168, 170, 172, 174, 176, 178, 180, 182, 184, 188, 190, 192, 194, 196, 200, 202, 204, 206, 210, 212, 214, 216, 218, 220, 222, 224, 226, 228, 232, 234, 244, 246, 248, 250, 254, 256, 258, 260, 262, 264, 266, 270, 272, 276, 280, 282, 284, 288, 290, 292, 298, 300, 304, 306, 310, 312, 314, 316, 322, 324, 328, 330, 332, 334]\n"
     ]
    }
   ],
   "source": [
    "#Use List Comprehension to display training hours that are greater than or equal to 50\n",
    "training_hours_list = (HR_Dataframe['training_hours'].unique())\n",
    "greater_than__or_equal_50_training_hours = [th for th in training_hours_list if th >= 50]\n",
    "greater_than__or_equal_50_training_hours.sort()\n",
    "print(greater_than__or_equal_50_training_hours)"
   ]
  },
  {
   "cell_type": "code",
   "execution_count": 175,
   "id": "05b505ea-fc98-4752-992d-7945156559df",
   "metadata": {},
   "outputs": [
    {
     "name": "stdout",
     "output_type": "stream",
     "text": [
      "[80, 80, 80, 80, 80, 80, 80, 80, 80, 80, 80, 80, 80]\n",
      "There are 13 records that have 80 training hours\n"
     ]
    }
   ],
   "source": [
    "#Use the Map Function to display the number of records that have a total of 80 training hours\n",
    "training_hours_list = (HR_Dataframe['training_hours'])\n",
    "\n",
    "def eighty(num):\n",
    "    if num==80:\n",
    "        return 80\n",
    "    else:\n",
    "        return 0\n",
    "\n",
    "number_of_records_with_x_training_hr = [num for num in list(map(eighty,training_hours_list)) if num]\n",
    "\n",
    "mycount = number_of_records_with_x_training_hr.count(80)\n",
    "\n",
    "\n",
    "print(number_of_records_with_x_training_hr)\n",
    "\n",
    "print(f\"There are {mycount} records that have 80 training hours\")"
   ]
  },
  {
   "cell_type": "markdown",
   "id": "89df55b7-b343-4668-8ad8-44d4faae9fb1",
   "metadata": {},
   "source": [
    "### Use matplotlib hist"
   ]
  },
  {
   "cell_type": "code",
   "execution_count": 177,
   "id": "42860137-60e0-4b41-9cd3-94c4d3800664",
   "metadata": {},
   "outputs": [
    {
     "name": "stdout",
     "output_type": "stream",
     "text": [
      "Below is a histogram of the training hours data.\n"
     ]
    },
    {
     "data": {
      "image/png": "[encoded data removed]",
      "text/plain": [
       "<Figure size 432x288 with 1 Axes>"
      ]
     },
     "metadata": {},
     "output_type": "display_data"
    }
   ],
   "source": [
    "#Create a Histogram for the data in the training hours column.\n",
    "\n",
    "#Get the List of Training Hours from Dataset\n",
    "training_hours_list = HR_Dataframe['training_hours']\n",
    "\n",
    "plt.hist(training_hours_list, bins=7, edgecolor='black')\n",
    "\n",
    "print(f\"Below is a histogram of the training hours data.\")\n",
    "plt.title(\"Training Hours Histogram\")\n",
    "plt.xlabel(\"training_hours_list\")\n",
    "plt.ylabel(\"Count\")\n",
    "plt.tight_layout()\n",
    "plt.show()\n"
   ]
  },
  {
   "cell_type": "code",
   "execution_count": 30,
   "id": "3bdc2655-a29e-4083-9c2c-c02719a1645e",
   "metadata": {},
   "outputs": [
    {
     "data": {
      "image/png": "[encoded data removed]",
      "text/plain": [
       "<Figure size 432x288 with 1 Axes>"
      ]
     },
     "metadata": {
      "needs_background": "light"
     },
     "output_type": "display_data"
    }
   ],
   "source": [
    "# Example 1 Bar Plot\n",
    "education_level_indexes = HR_Dataframe[\"education_level\"].value_counts().index.tolist()\n",
    "education_level_count = HR_Dataframe[\"education_level\"].value_counts().values.tolist()\n",
    "\n",
    "def addlabels(education_level_indexes,education_level_count):\n",
    "    for i in range(len(education_level_indexes)):\n",
    "        plt.text(i,education_level_count[i],education_level_count[i])\n",
    "\n",
    "\n",
    "plt.bar(education_level_indexes, education_level_count)\n",
    "plt.xlabel(\"Indexes\")\n",
    "plt.ylabel(\"Count\")\n",
    "\n",
    "addlabels(education_level_indexes, education_level_count)\n",
    "plt.title(\"Education Level\")\n",
    "plt.grid()\n",
    "plt.show()"
   ]
  },
  {
   "cell_type": "code",
   "execution_count": 34,
   "id": "9c80b1cb-43a8-4b27-997b-a5e48b5a1fd1",
   "metadata": {},
   "outputs": [
    {
     "data": {
      "image/png": "[encoded data removed]",
      "text/plain": [
       "<Figure size 432x288 with 1 Axes>"
      ]
     },
     "metadata": {
      "needs_background": "light"
     },
     "output_type": "display_data"
    }
   ],
   "source": [
    "# Example 2 Bar Plot\n",
    "gender_indexes = HR_Dataframe[\"gender\"].value_counts().index.tolist()\n",
    "gender_count = HR_Dataframe[\"gender\"].value_counts().values.tolist()\n",
    "\n",
    "def addlabels(gender_indexes,gender_count):\n",
    "    for i in range(len(gender_indexes)):\n",
    "        plt.text(i,gender_count[i],gender_count[i])\n",
    "\n",
    "\n",
    "plt.bar(gender_indexes, gender_count)\n",
    "plt.xlabel(\"Indexes\")\n",
    "plt.ylabel(\"Count\")\n",
    "\n",
    "addlabels(gender_indexes, gender_count)\n",
    "plt.title(\"Gender\")\n",
    "plt.grid()\n",
    "plt.show()"
   ]
  },
  {
   "cell_type": "markdown",
   "id": "9def7200-b2cd-4f24-8906-6819ae7b8967",
   "metadata": {},
   "source": [
    "### You can see from the chart above that the number of males was significantly higher than any other gender."
   ]
  },
  {
   "cell_type": "code",
   "execution_count": 33,
   "id": "8ae0051b-de01-4f8e-8a8d-50a497623f77",
   "metadata": {},
   "outputs": [
    {
     "data": {
      "image/png": "[encoded data removed]",
      "text/plain": [
       "<Figure size 1800x360 with 5 Axes>"
      ]
     },
     "metadata": {
      "needs_background": "light"
     },
     "output_type": "display_data"
    }
   ],
   "source": [
    "# Example 1 Rel Plot\n",
    "training_hours = HR_Dataframe.training_hours\n",
    "education_level = HR_Dataframe.education_level\n",
    "gender = HR_Dataframe.gender\n",
    "\n",
    "\n",
    "#create relplot\n",
    "rel = sns.relplot(x=\"gender\", y=\"training_hours\", col='education_level', data=HR_Dataframe)"
   ]
  },
  {
   "cell_type": "markdown",
   "id": "396722aa-dd73-4092-874d-1cd595a0aa81",
   "metadata": {},
   "source": [
    "### You can see from the chart above that the training hours for females with a Master's degree or a Phd was higher than any other education level for a female."
   ]
  },
  {
   "cell_type": "code",
   "execution_count": 189,
   "id": "fc795559-8730-44a0-8c5e-0a22e1b238ea",
   "metadata": {},
   "outputs": [
    {
     "data": {
      "text/plain": [
       "<AxesSubplot:xlabel='gender', ylabel='training_hours'>"
      ]
     },
     "execution_count": 189,
     "metadata": {},
     "output_type": "execute_result"
    },
    {
     "data": {
      "image/png": "[encoded data removed]",
      "text/plain": [
       "<Figure size 432x288 with 1 Axes>"
      ]
     },
     "metadata": {},
     "output_type": "display_data"
    }
   ],
   "source": [
    "# Example 2 Bar Plot\n",
    "sns.barplot(x=\"gender\", y=\"training_hours\", data=HR_Dataframe, palette=\"YlGnBu\")"
   ]
  },
  {
   "cell_type": "markdown",
   "id": "508b77f3-6019-4860-ad19-2436626540fa",
   "metadata": {},
   "source": [
    "### You can see from the chart above that the training hours for females was lower than any other gender"
   ]
  },
  {
   "cell_type": "code",
   "execution_count": 44,
   "id": "cfe3b068-4259-42ae-82a1-2a74da25ab63",
   "metadata": {},
   "outputs": [
    {
     "data": {
      "text/plain": [
       "<AxesSubplot:xlabel='education_level', ylabel='training_hours'>"
      ]
     },
     "execution_count": 44,
     "metadata": {},
     "output_type": "execute_result"
    },
    {
     "data": {
      "image/png": "[encoded data removed]",
      "text/plain": [
       "<Figure size 432x288 with 1 Axes>"
      ]
     },
     "metadata": {
      "needs_background": "light"
     },
     "output_type": "display_data"
    }
   ],
   "source": [
    "# Example 3 Bar Plot\n",
    "sns.barplot(x=\"education_level\", y=\"training_hours\", hue=\"gender\", data=HR_Dataframe, palette=\"YlGnBu\")"
   ]
  },
  {
   "cell_type": "markdown",
   "id": "6b39feb0-ae60-4972-9454-f673fe6987a2",
   "metadata": {},
   "source": [
    "### You can see from the chart above that the training hours for people with a Master's degree was higher than any other education level"
   ]
  },
  {
   "cell_type": "code",
   "execution_count": null,
   "id": "b48ec689-1461-4c17-8b4a-37a959919d2e",
   "metadata": {},
   "outputs": [],
   "source": []
  }
 ],
 "metadata": {
  "kernelspec": {
   "display_name": "Python 3",
   "language": "python",
   "name": "python3"
  },
  "language_info": {
   "codemirror_mode": {
    "name": "ipython",
    "version": 3
   },
   "file_extension": ".py",
   "mimetype": "text/x-python",
   "name": "python",
   "nbconvert_exporter": "python",
   "pygments_lexer": "ipython3",
   "version": "3.8.8"
  }
 },
 "nbformat": 4,
 "nbformat_minor": 5
}
