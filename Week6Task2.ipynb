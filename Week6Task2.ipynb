{
 "cells": [
  {
   "cell_type": "markdown",
   "id": "02371d61-a68e-4f30-94b5-824e5153a5d4",
   "metadata": {},
   "source": [
    "# Kendall Outlaw Project 6 - Data Analytics Projects\n",
    "### Task 2 - Diamonds Dataset \n",
    "### 2/18/2023"
   ]
  },
  {
   "cell_type": "markdown",
   "id": "6de93a73-c80b-4a61-a34b-e0696e8bb6cb",
   "metadata": {},
   "source": [
    "### 1-Load: Get the file, store it in your repo, and load it into a DataFrame. "
   ]
  },
  {
   "cell_type": "code",
   "execution_count": 58,
   "id": "fcfa2507-f4c2-4d2a-8bf3-c1ce90842258",
   "metadata": {},
   "outputs": [
    {
     "data": {
      "text/html": [
       "<div>\n",
       "<style scoped>\n",
       "    .dataframe tbody tr th:only-of-type {\n",
       "        vertical-align: middle;\n",
       "    }\n",
       "\n",
       "    .dataframe tbody tr th {\n",
       "        vertical-align: top;\n",
       "    }\n",
       "\n",
       "    .dataframe thead th {\n",
       "        text-align: right;\n",
       "    }\n",
       "</style>\n",
       "<table border=\"1\" class=\"dataframe\">\n",
       "  <thead>\n",
       "    <tr style=\"text-align: right;\">\n",
       "      <th></th>\n",
       "      <th>carat</th>\n",
       "      <th>cut</th>\n",
       "      <th>color</th>\n",
       "      <th>clarity</th>\n",
       "      <th>depth</th>\n",
       "      <th>table</th>\n",
       "      <th>price</th>\n",
       "      <th>x</th>\n",
       "      <th>y</th>\n",
       "      <th>z</th>\n",
       "    </tr>\n",
       "  </thead>\n",
       "  <tbody>\n",
       "    <tr>\n",
       "      <th>0</th>\n",
       "      <td>0.23</td>\n",
       "      <td>Ideal</td>\n",
       "      <td>E</td>\n",
       "      <td>SI2</td>\n",
       "      <td>61.5</td>\n",
       "      <td>55.0</td>\n",
       "      <td>326</td>\n",
       "      <td>3.95</td>\n",
       "      <td>3.98</td>\n",
       "      <td>2.43</td>\n",
       "    </tr>\n",
       "    <tr>\n",
       "      <th>1</th>\n",
       "      <td>0.21</td>\n",
       "      <td>Premium</td>\n",
       "      <td>E</td>\n",
       "      <td>SI1</td>\n",
       "      <td>59.8</td>\n",
       "      <td>61.0</td>\n",
       "      <td>326</td>\n",
       "      <td>3.89</td>\n",
       "      <td>3.84</td>\n",
       "      <td>2.31</td>\n",
       "    </tr>\n",
       "    <tr>\n",
       "      <th>2</th>\n",
       "      <td>0.23</td>\n",
       "      <td>Good</td>\n",
       "      <td>E</td>\n",
       "      <td>VS1</td>\n",
       "      <td>56.9</td>\n",
       "      <td>65.0</td>\n",
       "      <td>327</td>\n",
       "      <td>4.05</td>\n",
       "      <td>4.07</td>\n",
       "      <td>2.31</td>\n",
       "    </tr>\n",
       "    <tr>\n",
       "      <th>3</th>\n",
       "      <td>0.29</td>\n",
       "      <td>Premium</td>\n",
       "      <td>I</td>\n",
       "      <td>VS2</td>\n",
       "      <td>62.4</td>\n",
       "      <td>58.0</td>\n",
       "      <td>334</td>\n",
       "      <td>4.20</td>\n",
       "      <td>4.23</td>\n",
       "      <td>2.63</td>\n",
       "    </tr>\n",
       "    <tr>\n",
       "      <th>4</th>\n",
       "      <td>0.31</td>\n",
       "      <td>Good</td>\n",
       "      <td>J</td>\n",
       "      <td>SI2</td>\n",
       "      <td>63.3</td>\n",
       "      <td>58.0</td>\n",
       "      <td>335</td>\n",
       "      <td>4.34</td>\n",
       "      <td>4.35</td>\n",
       "      <td>2.75</td>\n",
       "    </tr>\n",
       "    <tr>\n",
       "      <th>...</th>\n",
       "      <td>...</td>\n",
       "      <td>...</td>\n",
       "      <td>...</td>\n",
       "      <td>...</td>\n",
       "      <td>...</td>\n",
       "      <td>...</td>\n",
       "      <td>...</td>\n",
       "      <td>...</td>\n",
       "      <td>...</td>\n",
       "      <td>...</td>\n",
       "    </tr>\n",
       "    <tr>\n",
       "      <th>53935</th>\n",
       "      <td>0.72</td>\n",
       "      <td>Ideal</td>\n",
       "      <td>D</td>\n",
       "      <td>SI1</td>\n",
       "      <td>60.8</td>\n",
       "      <td>57.0</td>\n",
       "      <td>2757</td>\n",
       "      <td>5.75</td>\n",
       "      <td>5.76</td>\n",
       "      <td>3.50</td>\n",
       "    </tr>\n",
       "    <tr>\n",
       "      <th>53936</th>\n",
       "      <td>0.72</td>\n",
       "      <td>Good</td>\n",
       "      <td>D</td>\n",
       "      <td>SI1</td>\n",
       "      <td>63.1</td>\n",
       "      <td>55.0</td>\n",
       "      <td>2757</td>\n",
       "      <td>5.69</td>\n",
       "      <td>5.75</td>\n",
       "      <td>3.61</td>\n",
       "    </tr>\n",
       "    <tr>\n",
       "      <th>53937</th>\n",
       "      <td>0.70</td>\n",
       "      <td>Very Good</td>\n",
       "      <td>D</td>\n",
       "      <td>SI1</td>\n",
       "      <td>62.8</td>\n",
       "      <td>60.0</td>\n",
       "      <td>2757</td>\n",
       "      <td>5.66</td>\n",
       "      <td>5.68</td>\n",
       "      <td>3.56</td>\n",
       "    </tr>\n",
       "    <tr>\n",
       "      <th>53938</th>\n",
       "      <td>0.86</td>\n",
       "      <td>Premium</td>\n",
       "      <td>H</td>\n",
       "      <td>SI2</td>\n",
       "      <td>61.0</td>\n",
       "      <td>58.0</td>\n",
       "      <td>2757</td>\n",
       "      <td>6.15</td>\n",
       "      <td>6.12</td>\n",
       "      <td>3.74</td>\n",
       "    </tr>\n",
       "    <tr>\n",
       "      <th>53939</th>\n",
       "      <td>0.75</td>\n",
       "      <td>Ideal</td>\n",
       "      <td>D</td>\n",
       "      <td>SI2</td>\n",
       "      <td>62.2</td>\n",
       "      <td>55.0</td>\n",
       "      <td>2757</td>\n",
       "      <td>5.83</td>\n",
       "      <td>5.87</td>\n",
       "      <td>3.64</td>\n",
       "    </tr>\n",
       "  </tbody>\n",
       "</table>\n",
       "<p>53940 rows × 10 columns</p>\n",
       "</div>"
      ],
      "text/plain": [
       "       carat        cut color clarity  depth  table  price     x     y     z\n",
       "0       0.23      Ideal     E     SI2   61.5   55.0    326  3.95  3.98  2.43\n",
       "1       0.21    Premium     E     SI1   59.8   61.0    326  3.89  3.84  2.31\n",
       "2       0.23       Good     E     VS1   56.9   65.0    327  4.05  4.07  2.31\n",
       "3       0.29    Premium     I     VS2   62.4   58.0    334  4.20  4.23  2.63\n",
       "4       0.31       Good     J     SI2   63.3   58.0    335  4.34  4.35  2.75\n",
       "...      ...        ...   ...     ...    ...    ...    ...   ...   ...   ...\n",
       "53935   0.72      Ideal     D     SI1   60.8   57.0   2757  5.75  5.76  3.50\n",
       "53936   0.72       Good     D     SI1   63.1   55.0   2757  5.69  5.75  3.61\n",
       "53937   0.70  Very Good     D     SI1   62.8   60.0   2757  5.66  5.68  3.56\n",
       "53938   0.86    Premium     H     SI2   61.0   58.0   2757  6.15  6.12  3.74\n",
       "53939   0.75      Ideal     D     SI2   62.2   55.0   2757  5.83  5.87  3.64\n",
       "\n",
       "[53940 rows x 10 columns]"
      ]
     },
     "execution_count": 58,
     "metadata": {},
     "output_type": "execute_result"
    }
   ],
   "source": [
    "import pandas as pd\n",
    "import numpy as np\n",
    "import matplotlib.pyplot as plt\n",
    "plt.style.use('fivethirtyeight')\n",
    "import seaborn as sns\n",
    "diamonds_df = sns.load_dataset('diamonds')\n",
    "diamonds_df"
   ]
  },
  {
   "cell_type": "markdown",
   "id": "9c9507f4-f95e-415d-8ed1-64e5ff6ca8c4",
   "metadata": {},
   "source": [
    "### 2-View: Display the first 7 rows and the last 7 rows."
   ]
  },
  {
   "cell_type": "code",
   "execution_count": 28,
   "id": "4dcd3109-400d-4477-9c77-23587234903f",
   "metadata": {},
   "outputs": [
    {
     "name": "stdout",
     "output_type": "stream",
     "text": [
      "   carat        cut color clarity  depth  table  price     x     y     z\n",
      "0   0.23      Ideal     E     SI2   61.5   55.0    326  3.95  3.98  2.43\n",
      "1   0.21    Premium     E     SI1   59.8   61.0    326  3.89  3.84  2.31\n",
      "2   0.23       Good     E     VS1   56.9   65.0    327  4.05  4.07  2.31\n",
      "3   0.29    Premium     I     VS2   62.4   58.0    334  4.20  4.23  2.63\n",
      "4   0.31       Good     J     SI2   63.3   58.0    335  4.34  4.35  2.75\n",
      "5   0.24  Very Good     J    VVS2   62.8   57.0    336  3.94  3.96  2.48\n",
      "6   0.24  Very Good     I    VVS1   62.3   57.0    336  3.95  3.98  2.47\n"
     ]
    }
   ],
   "source": [
    "#Display the first 7 rows of dataset\n",
    "print(diamonds_df.iloc[:7])"
   ]
  },
  {
   "cell_type": "code",
   "execution_count": 8,
   "id": "137f29e9-237b-4f54-b552-8668f576fd37",
   "metadata": {},
   "outputs": [
    {
     "name": "stdout",
     "output_type": "stream",
     "text": [
      "       carat        cut color clarity  depth  table  price     x     y     z\n",
      "53933   0.70  Very Good     E     VS2   61.2   59.0   2757  5.69  5.72  3.49\n",
      "53934   0.72    Premium     D     SI1   62.7   59.0   2757  5.69  5.73  3.58\n",
      "53935   0.72      Ideal     D     SI1   60.8   57.0   2757  5.75  5.76  3.50\n",
      "53936   0.72       Good     D     SI1   63.1   55.0   2757  5.69  5.75  3.61\n",
      "53937   0.70  Very Good     D     SI1   62.8   60.0   2757  5.66  5.68  3.56\n",
      "53938   0.86    Premium     H     SI2   61.0   58.0   2757  6.15  6.12  3.74\n",
      "53939   0.75      Ideal     D     SI2   62.2   55.0   2757  5.83  5.87  3.64\n"
     ]
    }
   ],
   "source": [
    "#Display the last 7 rows of dataset\n",
    "print(diamonds_df.iloc[-7:])"
   ]
  },
  {
   "cell_type": "markdown",
   "id": "96bd9259-ffb0-4f44-ae0c-19b28e57dea5",
   "metadata": {},
   "source": [
    "### 3-Describe: Use the DataFrame describe() function to calculate basic descriptive statistics for all numeric columns. "
   ]
  },
  {
   "cell_type": "code",
   "execution_count": 61,
   "id": "5a004e19-570d-453c-a7c3-6ca5ff7b120b",
   "metadata": {},
   "outputs": [
    {
     "name": "stdout",
     "output_type": "stream",
     "text": [
      "Below are the calculations the descriptive stats for all numeric columns.\n",
      "              carat         depth         table         price             x  \\\n",
      "count  53940.000000  53940.000000  53940.000000  53940.000000  53940.000000   \n",
      "mean       0.797940     61.749405     57.457184   3932.799722      5.731157   \n",
      "std        0.474011      1.432621      2.234491   3989.439738      1.121761   \n",
      "min        0.200000     43.000000     43.000000    326.000000      0.000000   \n",
      "25%        0.400000     61.000000     56.000000    950.000000      4.710000   \n",
      "50%        0.700000     61.800000     57.000000   2401.000000      5.700000   \n",
      "75%        1.040000     62.500000     59.000000   5324.250000      6.540000   \n",
      "max        5.010000     79.000000     95.000000  18823.000000     10.740000   \n",
      "\n",
      "                  y             z  \n",
      "count  53940.000000  53940.000000  \n",
      "mean       5.734526      3.538734  \n",
      "std        1.142135      0.705699  \n",
      "min        0.000000      0.000000  \n",
      "25%        4.720000      2.910000  \n",
      "50%        5.710000      3.530000  \n",
      "75%        6.540000      4.040000  \n",
      "max       58.900000     31.800000  \n"
     ]
    }
   ],
   "source": [
    "#Calculate the descriptive stats for all numeric columns\n",
    "#Set Precision to 2 decimal places\n",
    "\n",
    "print(f\"Below are the calculations the descriptive stats for all numeric columns.\")\n",
    "print(diamonds_df[[\"carat\",\"depth\",\"table\",\"price\",\"x\",\"y\",\"z\"]].describe(include=\"all\"))"
   ]
  },
  {
   "cell_type": "markdown",
   "id": "26bbb68a-a13b-43bd-a0a5-e4a06e03cdfa",
   "metadata": {},
   "source": [
    "### 4-Series: Use the Series method describe() to calculate the descriptive stats for all category/text columns."
   ]
  },
  {
   "cell_type": "code",
   "execution_count": 30,
   "id": "af66620a-88c1-432d-af58-747f766d3a0b",
   "metadata": {},
   "outputs": [
    {
     "name": "stdout",
     "output_type": "stream",
     "text": [
      "Below are the calculations the descriptive stats for all category/text columns.\n",
      "          cut  color clarity\n",
      "count   53940  53940   53940\n",
      "unique      5      7       8\n",
      "top     Ideal      G     SI1\n",
      "freq    21551  11292   13065\n"
     ]
    }
   ],
   "source": [
    "#Calculate the descriptive stats for all category/text columns\n",
    "print(f\"Below are the calculations the descriptive stats for all category/text columns.\")\n",
    "print(diamonds_df[[\"cut\",\"color\",\"clarity\"]].describe(include=\"all\"))"
   ]
  },
  {
   "cell_type": "markdown",
   "id": "46ada027-fab1-4ad2-a8c1-3961c93d2a92",
   "metadata": {},
   "source": [
    "### 4-Unique: Use the Series method unique() to get unique category values. "
   ]
  },
  {
   "cell_type": "code",
   "execution_count": 12,
   "id": "2f64f254-a5bd-4a66-96ef-3e7e46d23488",
   "metadata": {},
   "outputs": [
    {
     "name": "stdout",
     "output_type": "stream",
     "text": [
      "Below are the list of unique cut values\n",
      "['Ideal', 'Premium', 'Good', 'Very Good', 'Fair']\n",
      "Categories (5, object): ['Ideal', 'Premium', 'Good', 'Very Good', 'Fair']\n"
     ]
    }
   ],
   "source": [
    "#Get the Unique List of Cut Values from Dataset\n",
    "unique_cut_list = (diamonds_df['cut'].unique())\n",
    "print(f\"Below are the list of unique cut values\")\n",
    "print(unique_cut_list)"
   ]
  },
  {
   "cell_type": "code",
   "execution_count": 62,
   "id": "1eec8c36-d7e2-47db-a4fe-28f7e731ca27",
   "metadata": {},
   "outputs": [
    {
     "name": "stdout",
     "output_type": "stream",
     "text": [
      "Below are the list of unique color values\n",
      "['E', 'I', 'J', 'H', 'F', 'G', 'D']\n",
      "Categories (7, object): ['E', 'I', 'J', 'H', 'F', 'G', 'D']\n"
     ]
    }
   ],
   "source": [
    "#Get the Unique List of Color Values from Dataset\n",
    "unique_color_list = (diamonds_df['color'].unique())\n",
    "print(f\"Below are the list of unique color values\")\n",
    "print(unique_color_list)"
   ]
  },
  {
   "cell_type": "code",
   "execution_count": 13,
   "id": "c210a53d-16c6-4156-9bf2-ce470811f22f",
   "metadata": {},
   "outputs": [
    {
     "name": "stdout",
     "output_type": "stream",
     "text": [
      "Below are the list of unique clarity values\n",
      "['SI2', 'SI1', 'VS1', 'VS2', 'VVS2', 'VVS1', 'I1', 'IF']\n",
      "Categories (8, object): ['SI2', 'SI1', 'VS1', 'VS2', 'VVS2', 'VVS1', 'I1', 'IF']\n"
     ]
    }
   ],
   "source": [
    "#Get the Unique List of Clarity Values from Dataset\n",
    "unique_clarity_list = (diamonds_df['clarity'].unique())\n",
    "print(f\"Below are the list of unique clarity values\")\n",
    "print(unique_clarity_list)"
   ]
  },
  {
   "cell_type": "markdown",
   "id": "f356ff39-0fee-4665-8e6e-324f5e0a6f96",
   "metadata": {},
   "source": [
    "### 5-Histograms: Use the DataFrame's hist() function to create a histogram for each numerical column."
   ]
  },
  {
   "cell_type": "code",
   "execution_count": 57,
   "id": "230a6c46-80a1-46db-986c-83cd6687d895",
   "metadata": {},
   "outputs": [
    {
     "name": "stdout",
     "output_type": "stream",
     "text": [
      "Below is a histogram of the carat data.\n"
     ]
    },
    {
     "data": {
      "image/png": "[encoded data removed]",
      "text/plain": [
       "<Figure size 432x288 with 1 Axes>"
      ]
     },
     "metadata": {},
     "output_type": "display_data"
    }
   ],
   "source": [
    "#Get the List of Carat Values from Dataset\n",
    "carat_list = diamonds_df['carat']\n",
    "\n",
    "plt.hist(carat_list, bins=7, edgecolor='black')\n",
    "\n",
    "print(f\"Below is a histogram of the carat data.\")\n",
    "plt.title(\"Carat Histogram\")\n",
    "plt.xlabel(\"carat\")\n",
    "plt.ylabel(\"Count\")\n",
    "plt.tight_layout()\n",
    "plt.show()"
   ]
  },
  {
   "cell_type": "code",
   "execution_count": 69,
   "id": "15ae198b-b0d1-4500-b534-9a46785bbfa2",
   "metadata": {},
   "outputs": [
    {
     "name": "stdout",
     "output_type": "stream",
     "text": [
      "Below is a histogram of the depth data.\n"
     ]
    },
    {
     "data": {
      "image/png": "[encoded data removed]",
      "text/plain": [
       "<Figure size 432x288 with 1 Axes>"
      ]
     },
     "metadata": {},
     "output_type": "display_data"
    }
   ],
   "source": [
    "#Get the List of Depth Values from Dataset\n",
    "depth_list = diamonds_df['depth']\n",
    "\n",
    "plt.hist(depth_list, bins=7, edgecolor='black')\n",
    "\n",
    "print(f\"Below is a histogram of the depth data.\")\n",
    "plt.title(\"Depth Histogram\")\n",
    "plt.tight_layout()\n",
    "plt.show()\n"
   ]
  },
  {
   "cell_type": "code",
   "execution_count": 70,
   "id": "afab96f4-b4fd-4afa-a2e0-d315f0c4ae43",
   "metadata": {},
   "outputs": [
    {
     "name": "stdout",
     "output_type": "stream",
     "text": [
      "Below is a histogram of the table data.\n"
     ]
    },
    {
     "data": {
      "image/png": "[encoded data removed]",
      "text/plain": [
       "<Figure size 432x288 with 1 Axes>"
      ]
     },
     "metadata": {},
     "output_type": "display_data"
    }
   ],
   "source": [
    "#Get the List of Table Values from Dataset\n",
    "table_list = diamonds_df['table']\n",
    "\n",
    "plt.hist(table_list, bins=8, edgecolor='black')\n",
    "\n",
    "print(f\"Below is a histogram of the table data.\")\n",
    "plt.title(\"Table Histogram\")\n",
    "plt.tight_layout()\n",
    "plt.show()"
   ]
  },
  {
   "cell_type": "code",
   "execution_count": 71,
   "id": "4164b9bd-a433-4d9f-984a-b2919edfe9f7",
   "metadata": {},
   "outputs": [
    {
     "name": "stdout",
     "output_type": "stream",
     "text": [
      "Below is a histogram of the table data.\n"
     ]
    },
    {
     "data": {
      "image/png": "[encoded data removed]",
      "text/plain": [
       "<Figure size 432x288 with 1 Axes>"
      ]
     },
     "metadata": {},
     "output_type": "display_data"
    }
   ],
   "source": [
    "#Get the List of Price Values from Dataset\n",
    "price_list = diamonds_df['price']\n",
    "\n",
    "plt.hist(price_list, bins=10, edgecolor='black')\n",
    "\n",
    "print(f\"Below is a histogram of the table data.\")\n",
    "plt.title(\"Price Histogram\")\n",
    "plt.tight_layout()\n",
    "plt.show()"
   ]
  },
  {
   "cell_type": "code",
   "execution_count": 72,
   "id": "0b766c0d-4749-4751-a88c-abb549330f44",
   "metadata": {},
   "outputs": [
    {
     "name": "stdout",
     "output_type": "stream",
     "text": [
      "Below is a histogram of the x data.\n"
     ]
    },
    {
     "data": {
      "image/png": "[encoded data removed]",
      "text/plain": [
       "<Figure size 432x288 with 1 Axes>"
      ]
     },
     "metadata": {},
     "output_type": "display_data"
    }
   ],
   "source": [
    "#Get the List of x Values from Dataset\n",
    "x_list = diamonds_df['x']\n",
    "\n",
    "plt.hist(x_list, bins=8, edgecolor='black')\n",
    "\n",
    "print(f\"Below is a histogram of the x data.\")\n",
    "plt.title(\"x Histogram\")\n",
    "plt.tight_layout()\n",
    "plt.show()"
   ]
  },
  {
   "cell_type": "code",
   "execution_count": 73,
   "id": "c345b470-42a7-4f8b-8878-d69453d20633",
   "metadata": {},
   "outputs": [
    {
     "name": "stdout",
     "output_type": "stream",
     "text": [
      "Below is a histogram of the y data.\n"
     ]
    },
    {
     "data": {
      "image/png": "[encoded data removed]",
      "text/plain": [
       "<Figure size 432x288 with 1 Axes>"
      ]
     },
     "metadata": {},
     "output_type": "display_data"
    }
   ],
   "source": [
    "#Get the List of y Values from Dataset\n",
    "y_list = diamonds_df['y']\n",
    "\n",
    "plt.hist(y_list, bins=8, edgecolor='black')\n",
    "\n",
    "print(f\"Below is a histogram of the y data.\")\n",
    "plt.title(\"y Histogram\")\n",
    "plt.tight_layout()\n",
    "plt.show()"
   ]
  },
  {
   "cell_type": "code",
   "execution_count": 74,
   "id": "e3645d33-1a86-46ff-bdd2-fb5d4b35864a",
   "metadata": {},
   "outputs": [
    {
     "name": "stdout",
     "output_type": "stream",
     "text": [
      "Below is a histogram of the z data.\n"
     ]
    },
    {
     "data": {
      "image/png": "[encoded data removed]",
      "text/plain": [
       "<Figure size 432x288 with 1 Axes>"
      ]
     },
     "metadata": {},
     "output_type": "display_data"
    }
   ],
   "source": [
    "#Get the List of z Values from Dataset\n",
    "z_list = diamonds_df['z']\n",
    "\n",
    "plt.hist(z_list, bins=8, edgecolor='black')\n",
    "\n",
    "print(f\"Below is a histogram of the z data.\")\n",
    "plt.title(\"z Histogram\")\n",
    "plt.tight_layout()\n",
    "plt.show()"
   ]
  }
 ],
 "metadata": {
  "kernelspec": {
   "display_name": "Python 3",
   "language": "python",
   "name": "python3"
  },
  "language_info": {
   "codemirror_mode": {
    "name": "ipython",
    "version": 3
   },
   "file_extension": ".py",
   "mimetype": "text/x-python",
   "name": "python",
   "nbconvert_exporter": "python",
   "pygments_lexer": "ipython3",
   "version": "3.8.8"
  }
 },
 "nbformat": 4,
 "nbformat_minor": 5
}
